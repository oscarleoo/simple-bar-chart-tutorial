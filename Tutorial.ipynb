{
 "cells": [
  {
   "cell_type": "markdown",
   "id": "e7d329ce",
   "metadata": {},
   "source": [
    "# A Simple Bar Chart Tutorial\n",
    "In this tutorial I want to show you some of my tricks to turn a boring bar chart into a stunning vusial using `Matplotlib` and `Seaborn`."
   ]
  },
  {
   "cell_type": "code",
   "execution_count": 1,
   "id": "eef10f72",
   "metadata": {},
   "outputs": [],
   "source": [
    "import os\n",
    "import tqdm\n",
    "import imageio\n",
    "import numpy as np\n",
    "import pandas as pd\n",
    "\n",
    "import matplotlib.pyplot as plt\n",
    "import seaborn as sns\n",
    "\n",
    "from PIL import Image\n",
    "from matplotlib import font_manager\n",
    "from matplotlib.offsetbox import OffsetImage, AnnotationBbox, OffsetBox"
   ]
  },
  {
   "cell_type": "code",
   "execution_count": 2,
   "id": "5028e061",
   "metadata": {},
   "outputs": [],
   "source": [
    "df = pd.read_csv(\"./data.csv\", index_col=None)\n",
    "df = df.set_index(\"date\")"
   ]
  },
  {
   "cell_type": "code",
   "execution_count": 3,
   "id": "7b868394",
   "metadata": {},
   "outputs": [
    {
     "data": {
      "text/html": [
       "<div>\n",
       "<style scoped>\n",
       "    .dataframe tbody tr th:only-of-type {\n",
       "        vertical-align: middle;\n",
       "    }\n",
       "\n",
       "    .dataframe tbody tr th {\n",
       "        vertical-align: top;\n",
       "    }\n",
       "\n",
       "    .dataframe thead th {\n",
       "        text-align: right;\n",
       "    }\n",
       "</style>\n",
       "<table border=\"1\" class=\"dataframe\">\n",
       "  <thead>\n",
       "    <tr style=\"text-align: right;\">\n",
       "      <th></th>\n",
       "      <th>date</th>\n",
       "      <th>tensorflow</th>\n",
       "      <th>pytorch</th>\n",
       "      <th>keras</th>\n",
       "    </tr>\n",
       "  </thead>\n",
       "  <tbody>\n",
       "    <tr>\n",
       "      <th>2994</th>\n",
       "      <td>2023-06-09</td>\n",
       "      <td>175390</td>\n",
       "      <td>67675</td>\n",
       "      <td>58557</td>\n",
       "    </tr>\n",
       "    <tr>\n",
       "      <th>2995</th>\n",
       "      <td>2023-06-10</td>\n",
       "      <td>175428</td>\n",
       "      <td>67703</td>\n",
       "      <td>58561</td>\n",
       "    </tr>\n",
       "    <tr>\n",
       "      <th>2996</th>\n",
       "      <td>2023-06-11</td>\n",
       "      <td>175444</td>\n",
       "      <td>67719</td>\n",
       "      <td>58563</td>\n",
       "    </tr>\n",
       "  </tbody>\n",
       "</table>\n",
       "</div>"
      ],
      "text/plain": [
       "            date  tensorflow  pytorch  keras\n",
       "2994  2023-06-09      175390    67675  58557\n",
       "2995  2023-06-10      175428    67703  58561\n",
       "2996  2023-06-11      175444    67719  58563"
      ]
     },
     "execution_count": 3,
     "metadata": {},
     "output_type": "execute_result"
    }
   ],
   "source": [
    "df.reset_index().tail(3)"
   ]
  },
  {
   "cell_type": "markdown",
   "id": "5394ca9b",
   "metadata": {},
   "source": [
    "### Step 1: Creating a default bar chart"
   ]
  },
  {
   "cell_type": "code",
   "execution_count": 4,
   "id": "42442375",
   "metadata": {},
   "outputs": [],
   "source": [
    "def create_bar_chart(row, color):    \n",
    "    return sns.barplot(\n",
    "        y=row.index.str.capitalize().values,\n",
    "        x=row.values,\n",
    "        orient=\"h\",\n",
    "        saturation=1,\n",
    "        color=color,\n",
    "        width=0.75,\n",
    "    )"
   ]
  },
  {
   "cell_type": "code",
   "execution_count": 5,
   "id": "456e198f",
   "metadata": {},
   "outputs": [
    {
     "data": {
      "image/png": "[encoded data removed]",
      "text/plain": [
       "<Figure size 864x504 with 1 Axes>"
      ]
     },
     "metadata": {
      "needs_background": "light"
     },
     "output_type": "display_data"
    }
   ],
   "source": [
    "row = df.iloc[-1]\n",
    "\n",
    "fig = plt.figure(figsize=(12, 7))\n",
    "ax = create_bar_chart(row, color=\"orange\")\n",
    "\n",
    "plt.title(\"Total Number of Stars on GitHub\")\n",
    "plt.tight_layout()\n",
    "plt.show()"
   ]
  },
  {
   "cell_type": "markdown",
   "id": "7681cf1b",
   "metadata": {},
   "source": [
    "### Step 2: Creating a theme\n"
   ]
  },
  {
   "cell_type": "code",
   "execution_count": 6,
   "id": "02a21fd9",
   "metadata": {},
   "outputs": [],
   "source": [
    "def set_seaborn_style(font_family, background_color, grid_color, text_color):\n",
    "    sns.set_style({\n",
    "        \"axes.facecolor\": background_color,\n",
    "        \"figure.facecolor\": background_color,\n",
    "\n",
    "        \"grid.color\": grid_color,\n",
    "        \"axes.edgecolor\": grid_color,\n",
    "        \"axes.grid\": True,\n",
    "        \"axes.axisbelow\": True,\n",
    "        \n",
    "        \"axes.labelcolor\": text_color,\n",
    "        \"text.color\": text_color,\n",
    "        \"font.family\": font_family,\n",
    "        \"xtick.color\": text_color,\n",
    "        \"ytick.color\": text_color,\n",
    "\n",
    "        \"xtick.bottom\": False,\n",
    "        \"xtick.top\": False,\n",
    "        \"ytick.left\": False,\n",
    "        \"ytick.right\": False,\n",
    "\n",
    "        \"axes.spines.left\": False,\n",
    "        \"axes.spines.bottom\": True,\n",
    "        \"axes.spines.right\": False,\n",
    "        \"axes.spines.top\": False,\n",
    "    }\n",
    ")"
   ]
  },
  {
   "cell_type": "markdown",
   "id": "547d2eb7",
   "metadata": {},
   "source": [
    "Now you can create a color scheme that you like and select a font. I often go to https://colorhunt.co or https://www.canva.com/colors/color-palettes for inpiration and use https://coolors.co/ to find complementary colors when I've found base colors that I like.\n",
    "\n",
    "Here are the colors I've selected for this tutorial."
   ]
  },
  {
   "cell_type": "code",
   "execution_count": 7,
   "id": "9380d6ae",
   "metadata": {},
   "outputs": [],
   "source": [
    "background_color = \"#2F195F\"\n",
    "grid_color = \"#582FB1\"\n",
    "bar_color = \"#835ED4\"\n",
    "text_color = \"#eee\""
   ]
  },
  {
   "cell_type": "code",
   "execution_count": 8,
   "id": "d93af4ce",
   "metadata": {},
   "outputs": [],
   "source": [
    "def show_available_fonts():\n",
    "    fonts = list(set([f.name for f in font_manager.fontManager.ttflist]))\n",
    "    fonts.sort()\n",
    "    return fonts"
   ]
  },
  {
   "cell_type": "code",
   "execution_count": 9,
   "id": "c343e38a",
   "metadata": {},
   "outputs": [],
   "source": [
    "font_family = \"PT Mono\""
   ]
  },
  {
   "cell_type": "code",
   "execution_count": 10,
   "id": "a7d41f39",
   "metadata": {},
   "outputs": [],
   "source": [
    "set_seaborn_style(font_family, background_color, grid_color, text_color)"
   ]
  },
  {
   "cell_type": "code",
   "execution_count": 11,
   "id": "a09b763f",
   "metadata": {},
   "outputs": [
    {
     "data": {
      "image/png": "[encoded data removed]",
      "text/plain": [
       "<Figure size 864x504 with 1 Axes>"
      ]
     },
     "metadata": {},
     "output_type": "display_data"
    }
   ],
   "source": [
    "row = df.iloc[-1]\n",
    "\n",
    "fig = plt.figure(figsize=(12, 7))\n",
    "ax = create_bar_chart(row, color=bar_color)\n",
    "\n",
    "plt.title(\"Total Number of Stars on GitHub\")\n",
    "plt.tight_layout()\n",
    "plt.show()"
   ]
  },
  {
   "cell_type": "markdown",
   "id": "a4bec17c",
   "metadata": {},
   "source": [
    "### Step 3: Formatting axes and title"
   ]
  },
  {
   "cell_type": "code",
   "execution_count": 12,
   "id": "8d096d74",
   "metadata": {},
   "outputs": [],
   "source": [
    "def format_axes(ax):\n",
    "    ax.tick_params(\"x\", labelsize=20, pad=16)\n",
    "    ax.tick_params(\"y\", labelsize=20, pad=8)\n",
    "    \n",
    "    plt.xticks(\n",
    "        ticks=ax.get_xticks()[:-1],\n",
    "        labels=[\"{}K\".format(int(x / 1000)) for x in ax.get_xticks()[:-1]]\n",
    "    )"
   ]
  },
  {
   "cell_type": "code",
   "execution_count": 13,
   "id": "ed25b8cc",
   "metadata": {},
   "outputs": [
    {
     "data": {
      "image/png": "[encoded data removed]",
      "text/plain": [
       "<Figure size 864x504 with 1 Axes>"
      ]
     },
     "metadata": {},
     "output_type": "display_data"
    }
   ],
   "source": [
    "row = df.iloc[-1]\n",
    "\n",
    "fig = plt.figure(figsize=(12, 7))\n",
    "ax = create_bar_chart(row, color=bar_color)\n",
    "\n",
    "format_axes(ax)\n",
    "\n",
    "plt.title(\"Total Number of Stars on GitHub\", fontsize=34, y=1.2, x=0.46)\n",
    "plt.tight_layout()\n",
    "plt.show()"
   ]
  },
  {
   "cell_type": "markdown",
   "id": "503389c0",
   "metadata": {},
   "source": [
    "### Step 4: Adding icons"
   ]
  },
  {
   "cell_type": "code",
   "execution_count": 14,
   "id": "2b5947ec",
   "metadata": {},
   "outputs": [],
   "source": [
    "def add_bar_icons(ax, row, background_color, zoom, pad):\n",
    "    for index, (name, value) in enumerate(row.items()): \n",
    "        icon = plt.imread(\"./icons/{}.png\".format(name.lower()))\n",
    "        image = OffsetImage(icon, zoom=zoom, interpolation=\"lanczos\", resample=True, visible=True)\n",
    "        image.image.axes = ax\n",
    "\n",
    "        ax.add_artist(AnnotationBbox(\n",
    "            image, (value, index), frameon=True,\n",
    "            xycoords=\"data\",\n",
    "            bboxprops={\n",
    "                \"facecolor\": \"#fff\",\n",
    "                \"linewidth\": 2.5,\n",
    "                \"edgecolor\": background_color,\n",
    "                \"boxstyle\": \"circle, pad={}\".format(pad),\n",
    "            }\n",
    "        ))"
   ]
  },
  {
   "cell_type": "code",
   "execution_count": 15,
   "id": "29d7ddd9",
   "metadata": {},
   "outputs": [],
   "source": [
    "def add_icon(ax, icon_name, x, y):\n",
    "    icon = plt.imread(\"./icons/{}.png\".format(icon_name))\n",
    "    image = OffsetImage(icon, zoom=0.13, interpolation=\"lanczos\", resample=True, visible=True)\n",
    "    image.image.axes = ax\n",
    "\n",
    "    ax.add_artist(AnnotationBbox(\n",
    "        image, (x, y), frameon=False,\n",
    "        xycoords=\"axes fraction\",\n",
    "    ))"
   ]
  },
  {
   "cell_type": "code",
   "execution_count": null,
   "id": "75c52aaf",
   "metadata": {},
   "outputs": [],
   "source": [
    "row = df.iloc[-1]\n",
    "\n",
    "fig = plt.figure(figsize=(12, 7))\n",
    "ax = create_bar_chart(row, color=bar_color)\n",
    "\n",
    "format_axes(ax)\n",
    "add_bar_icons(ax, row, background_color, zoom=0.09, pad=1)\n",
    "add_icon(ax, \"star\", 0.46, 1.26)\n",
    "\n",
    "plt.title(\"Total Number of     Stars on GitHub\", fontsize=34, y=1.2, x=0.46)\n",
    "plt.tight_layout()\n",
    "plt.show()"
   ]
  },
  {
   "cell_type": "markdown",
   "id": "9fb480e5",
   "metadata": {},
   "source": [
    "### Step 5: Turning the chart into an Image"
   ]
  },
  {
   "cell_type": "code",
   "execution_count": null,
   "id": "70df3dfc",
   "metadata": {},
   "outputs": [],
   "source": [
    "def create_image_from_figure(fig):\n",
    "    plt.tight_layout()\n",
    "    \n",
    "    fig.canvas.draw()\n",
    "    data = np.frombuffer(fig.canvas.tostring_rgb(), dtype=np.uint8)\n",
    "    data = data.reshape((fig.canvas.get_width_height()[::-1]) + (3,))\n",
    "    plt.close() \n",
    "    \n",
    "    return Image.fromarray(data)\n",
    "\n",
    "def add_padding_to_chart(chart, left, top, right, bottom, background):\n",
    "    size = chart.size\n",
    "    image = Image.new(\"RGB\", (size[0] + left + right, size[1] + top + bottom), background)\n",
    "    image.paste(chart, (left, top))\n",
    "    return image"
   ]
  },
  {
   "cell_type": "code",
   "execution_count": null,
   "id": "644ea323",
   "metadata": {},
   "outputs": [],
   "source": [
    "row = df.iloc[-1]\n",
    "\n",
    "fig = plt.figure(figsize=(12, 7))\n",
    "ax = create_bar_chart(row, color=bar_color)\n",
    "plt.title(\"Total Number of     Stars on GitHub\", fontsize=34, y=1.2, x=0.46)\n",
    "\n",
    "format_axes(ax)\n",
    "add_bar_icons(ax, row, background_color, zoom=0.09, pad=0.9)\n",
    "add_icon(ax, \"star\", 0.46, 1.26)\n",
    "\n",
    "image = create_image_from_figure(fig)\n",
    "image = add_padding_to_chart(image, 20, 20, 40, 0, background_color)"
   ]
  },
  {
   "cell_type": "code",
   "execution_count": null,
   "id": "aa28a439",
   "metadata": {},
   "outputs": [],
   "source": [
    "image"
   ]
  },
  {
   "cell_type": "markdown",
   "id": "9b4f40be",
   "metadata": {},
   "source": [
    "### Bonus: Creating an animation"
   ]
  },
  {
   "cell_type": "code",
   "execution_count": null,
   "id": "03e3f09d",
   "metadata": {},
   "outputs": [],
   "source": [
    "images = []\n",
    "\n",
    "for i in tqdm.tqdm(range(1, 2000, 10)):\n",
    "    row = df.iloc[-i]\n",
    "\n",
    "    fig = plt.figure(figsize=(12, 7))\n",
    "    ax = create_bar_chart(row, color=bar_color)\n",
    "    ax.set(xlim=(0, 185000))\n",
    "    plt.title(\"Total Number of     Stars on GitHub\", fontsize=34, y=1.2, x=0.46)\n",
    "\n",
    "    format_axes(ax)\n",
    "    add_bar_icons(ax, row, background_color, zoom=0.09, pad=0.9)\n",
    "    add_icon(ax, \"star\", 0.46, 1.26)\n",
    "\n",
    "    image = create_image_from_figure(fig)\n",
    "    image = add_padding_to_chart(image, 20, 20, 40, 0, background_color)\n",
    "    images.append(image)\n",
    "    \n",
    "images.reverse()"
   ]
  },
  {
   "cell_type": "code",
   "execution_count": null,
   "id": "c31d08ae",
   "metadata": {},
   "outputs": [],
   "source": [
    "images = images + [images[-1] for _ in range(20)]\n",
    "imageio.mimwrite('./animation.gif', images, duration=50)"
   ]
  },
  {
   "cell_type": "code",
   "execution_count": null,
   "id": "06b786f9",
   "metadata": {},
   "outputs": [],
   "source": []
  }
 ],
 "metadata": {
  "kernelspec": {
   "display_name": "tutorial",
   "language": "python",
   "name": "tutorial"
  },
  "language_info": {
   "codemirror_mode": {
    "name": "ipython",
    "version": 3
   },
   "file_extension": ".py",
   "mimetype": "text/x-python",
   "name": "python",
   "nbconvert_exporter": "python",
   "pygments_lexer": "ipython3",
   "version": "3.10.4"
  }
 },
 "nbformat": 4,
 "nbformat_minor": 5
}
